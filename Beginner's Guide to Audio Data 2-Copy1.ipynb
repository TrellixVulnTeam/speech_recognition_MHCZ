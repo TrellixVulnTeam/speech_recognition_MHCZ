{
 "cells": [
  {
   "cell_type": "code",
   "execution_count": null,
   "metadata": {},
   "outputs": [],
   "source": []
  },
  {
   "cell_type": "markdown",
   "metadata": {
    "_cell_guid": "f5be4ac1-d0a2-442b-ac57-f7b0c764dae9",
    "_uuid": "876f0b63cba53419fbf7527034bf2c5f93885309"
   },
   "source": [
    "# <font color='gray' size=7> Freesound Audio Tagging 2019 </font>\n",
    "\n",
    "updated May.02\n",
    "\n",
    "![Logo](https://storage.googleapis.com/kaggle-competitions/kaggle/10700/logos/header.png)\n",
    "\n",
    "@fizzbuzz's awesome kernel from previous competition would be a great introduction for beginners, including me :)  \n",
    "( https://www.kaggle.com/fizzbuzz/beginner-s-guide-to-audio-data )  \n",
    "Here I posted the modified kernel for this competition ( though not perfect ).  \n",
    "  \n",
    "---\n",
    "\n",
    "Also some top solutions in previous competition will help us.  \n",
    "\n",
    "* 1st solution :  \n",
    "https://storage.googleapis.com/kaggle-forum-message-attachments/365414/9991/Jeong_COCAI_task2.pdf  \n",
    "* 4th solution :  \n",
    "https://www.kaggle.com/c/freesound-audio-tagging/discussion/62634#latest-367166  \n",
    "* 8th solution :  \n",
    "https://www.kaggle.com/c/freesound-audio-tagging/discussion/64262#latest-376395  \n",
    "* 11th solution :  \n",
    "http://dcase.community/documents/workshop2018/proceedings/DCASE2018Workshop_Wei_100.pdf  \n",
    "\n",
    "\n",
    "* DCASE_2018 proceedings :  \n",
    "http://dcase.community/workshop2018/proceedings\n",
    "\n",
    "---\n",
    "\n",
    "And more...  \n",
    "\n",
    "Planet Understanding the Amazon from Space was a multi-labeled image classification competition.\n",
    "https://www.kaggle.com/c/planet-understanding-the-amazon-from-space\n",
    "\n",
    "1st place solution had been written in Kaggle blog by @bestfitting.  \n",
    "http://blog.kaggle.com/2017/10/17/planet-understanding-the-amazon-from-space-1st-place-winners-interview/  \n",
    "Most interesting part for me is the way to consider co-occurence.  \n",
    "In this solution, Ridge regression was used to do it (please read the above material for more detail).  \n",
    "\n",
    "---\n",
    "\n",
    "**NOTE :  \n",
    "This notebook used only curated wav files,  \n",
    "and did not consider multi-labeled records in train.  \n",
    "For supplement, I have also posted the kernel to explore multi-label audio data.\n",
    "https://www.kaggle.com/maxwell110/explore-multi-labeled-data\n",
    "**  \n",
    "\n",
    "\n",
    "### Contents\n",
    "1. [Exploratory Data Analysis](#eda)\n",
    "    * [Loading data](#loading_data)\n",
    "    * [Distribution of Categories](#distribution)\n",
    "    * [Reading Audio Files](#audio_files)\n",
    "    * [Audio Length](#audio_length)\n",
    "2. [Building a Model using Raw Wave](#1d_model_building)\n",
    "    * [Model Discription](#1d_discription)\n",
    "    * [Configuration](#configuration)\n",
    "    * [DataGenerator class](#data_generator)\n",
    "    * [Normalization](#1d_normalization)\n",
    "    * [Training 1D Conv](#1d_training)\n",
    "    * [Ensembling 1D Conv Predictions](#1d_ensembling)\n",
    "3. [Introduction to MFCC](#intro_mfcc)\n",
    "    * [Generating MFCC using Librosa](#librosa_mfcc)\n",
    "4. [Building a Model using MFCC](#2d_model_building)\n",
    "    * [Preparing Data](#2d_data)\n",
    "    * [Normalization](#2d_normalization)\n",
    "    * [Training 2D Conv on MFCC](#2d_training)\n",
    "    * [Ensembling 2D Conv Predictions](#2d_ensembling)\n",
    "5. [Ensembling 1D Conv and 2D Conv Predictions](#1d_2d_ensembling)\n",
    "\n",
    "<a id=\"eda\"></a>\n",
    "## <center>1. Exploratory Data Analysis</center>"
   ]
  },
  {
   "cell_type": "code",
   "execution_count": 6,
   "metadata": {
    "_cell_guid": "39ab28e6-67b2-4129-9dbb-846c81ba85f2",
    "_uuid": "d00095bca1801c4058b75e706058a0651808596f"
   },
   "outputs": [],
   "source": [
    "# Change this to True for full dataset and learning\n",
    "COMPLETE_RUN = False"
   ]
  },
  {
   "cell_type": "markdown",
   "metadata": {
    "_cell_guid": "d4905db9-005f-42f0-aa6b-1408acef7371",
    "_uuid": "4c065a37dd33e869d93ccd8d78daed628e58112b"
   },
   "source": [
    "<a id=\"loading_data\"></a>\n",
    "### Loading data"
   ]
  },
  {
   "cell_type": "code",
   "execution_count": 14,
   "metadata": {
    "_cell_guid": "5abea3ac-4fa5-4c4f-893f-7f2afa49e523",
    "_kg_hide-output": false,
    "_uuid": "337e0950ca948be32d5d881c1a3c675ccf7ac523"
   },
   "outputs": [],
   "source": [
    "import numpy as np\n",
    "np.random.seed(1001)\n",
    "\n",
    "import os\n",
    "import shutil\n",
    "import warnings\n",
    "\n",
    "import IPython\n",
    "import matplotlib\n",
    "import matplotlib.pyplot as plt\n",
    "import pandas as pd\n",
    "import seaborn as sns\n",
    "from tqdm import tqdm_notebook\n",
    "from sklearn.model_selection import StratifiedKFold\n",
    "\n",
    "%matplotlib inline\n",
    "matplotlib.style.use('ggplot')\n",
    "warnings.filterwarnings(\"ignore\", category=FutureWarning)"
   ]
  },
  {
   "cell_type": "code",
   "execution_count": 15,
   "metadata": {},
   "outputs": [],
   "source": [
    "curr_data_dir = 'input/'"
   ]
  },
  {
   "cell_type": "code",
   "execution_count": 16,
   "metadata": {},
   "outputs": [
    {
     "data": {
      "text/plain": [
       "[]"
      ]
     },
     "execution_count": 16,
     "metadata": {},
     "output_type": "execute_result"
    }
   ],
   "source": [
    "os.listdir(curr_data_dir)"
   ]
  },
  {
   "cell_type": "markdown",
   "metadata": {
    "_cell_guid": "a715d812-98fc-459a-8695-13940b2ca1de",
    "_uuid": "d0ed18e06d39f962d1a2a58f4743171c9c4970e9"
   },
   "source": [
    "### Reading Audio Files\n",
    "\n",
    "The audios are [Pulse-code modulated](https://en.wikipedia.org/wiki/Audio_bit_depth) with a [bit depth](https://en.wikipedia.org/wiki/Audio_bit_depth) of 16 and a [sampling rate](https://en.wikipedia.org/wiki/Sampling_%28signal_processing%29) of 44.1 kHz\n",
    "\n",
    "![16-bit PCM](https://upload.wikimedia.org/wikipedia/commons/thumb/b/bf/Pcm.svg/500px-Pcm.svg.png)\n",
    "\n",
    "* **Bit-depth = 16**: The amplitude of each sample in the audio is one of 2^16 (=65536) possible values. \n",
    "* **Samplig rate = 44.1 kHz**: Each second in the audio consists of 44100 samples. So, if the duration of the audio file is 3.2 seconds, the audio will consist of 44100\\*3.2 = 141120 values.\n",
    "\n",
    "Let's listen to an audio file in our dataset and load it to a numpy array"
   ]
  },
  {
   "cell_type": "code",
   "execution_count": 20,
   "metadata": {
    "_cell_guid": "20d2c517-01f9-46a9-b339-6ce415bc59d2",
    "_uuid": "e15d81dcb2a4433b94182eb588ccb183e27fa700"
   },
   "outputs": [
    {
     "data": {
      "text/html": [
       "\n",
       "                <audio  controls=\"controls\" >\n",
       "                    <source src=\"data:audio/x-wav;base64,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\" type=\"audio/x-wav\" />\n",
       "                    Your browser does not support the audio element.\n",
       "                </audio>\n",
       "              "
      ],
      "text/plain": [
       "<IPython.lib.display.Audio object>"
      ]
     },
     "execution_count": 20,
     "metadata": {},
     "output_type": "execute_result"
    }
   ],
   "source": [
    "import IPython.display as ipd  # To play sound in the notebook\n",
    "fname = '{}/sunday.wav'.format(curr_data_dir)   # Raindrop\n",
    "ipd.Audio(fname)"
   ]
  },
  {
   "cell_type": "code",
   "execution_count": 21,
   "metadata": {
    "_cell_guid": "efe10cb8-13f1-405e-8b71-ca5758ee18d4",
    "_uuid": "101f9997c5c8cd0392c1f367684331d3f6e80422"
   },
   "outputs": [
    {
     "name": "stdout",
     "output_type": "stream",
     "text": [
      "Sampling (frame) rate =  16000\n",
      "Total samples (frames) =  15716\n",
      "Duration =  0.98225\n"
     ]
    }
   ],
   "source": [
    "# Using wave library\n",
    "import wave\n",
    "wav = wave.open(fname)\n",
    "print(\"Sampling (frame) rate = \", wav.getframerate())\n",
    "print(\"Total samples (frames) = \", wav.getnframes())\n",
    "print(\"Duration = \", wav.getnframes()/wav.getframerate())"
   ]
  },
  {
   "cell_type": "code",
   "execution_count": 22,
   "metadata": {
    "_cell_guid": "3c9f1564-fa50-4f4b-87d9-2070fc44770d",
    "_uuid": "e4ea69354f032c0b511b50693c750e19fb4f6cb3"
   },
   "outputs": [
    {
     "name": "stdout",
     "output_type": "stream",
     "text": [
      "Sampling (frame) rate =  16000\n",
      "Total samples (frames) =  (15716,)\n",
      "[104  28  50 ... 170  49  73]\n"
     ]
    }
   ],
   "source": [
    "# Using scipy\n",
    "from scipy.io import wavfile\n",
    "rate, data = wavfile.read(fname)\n",
    "print(\"Sampling (frame) rate = \", rate)\n",
    "print(\"Total samples (frames) = \", data.shape)\n",
    "print(data)"
   ]
  },
  {
   "cell_type": "markdown",
   "metadata": {
    "_cell_guid": "3c6c2a6f-4914-4e13-84be-6b8492487c7b",
    "_uuid": "bacb576c223074c03d0cb5c55b917df2e1261498"
   },
   "source": [
    "Let's plot the audio frames"
   ]
  },
  {
   "cell_type": "code",
   "execution_count": 23,
   "metadata": {
    "_cell_guid": "eeb3e8ab-106f-4e67-84fd-7bf8c9847c8e",
    "_uuid": "a1e25d48f74b38784d7588e5c33af9b03248e7d3",
    "scrolled": false
   },
   "outputs": [
    {
     "data": {
      "image/png": "[encoded data removed]",
      "text/plain": [
       "<Figure size 432x288 with 1 Axes>"
      ]
     },
     "metadata": {},
     "output_type": "display_data"
    }
   ],
   "source": [
    "plt.plot(data, '-', );"
   ]
  },
  {
   "cell_type": "markdown",
   "metadata": {
    "_cell_guid": "79293dfd-e254-47f3-8909-ff32f08f87aa",
    "_uuid": "762301b9c5d7653d761205e172ff3da88745400f"
   },
   "source": [
    "Let's zoom in on first 1000 frames"
   ]
  },
  {
   "cell_type": "code",
   "execution_count": 25,
   "metadata": {
    "_cell_guid": "bfb06a3e-b501-4570-89ea-008781414144",
    "_uuid": "7c1b21e52e83d0bc723a48a32ced87445a540fa9"
   },
   "outputs": [
    {
     "data": {
      "image/png": "[encoded data removed]",
      "text/plain": [
       "<Figure size 1152x288 with 1 Axes>"
      ]
     },
     "metadata": {},
     "output_type": "display_data"
    }
   ],
   "source": [
    "plt.figure(figsize=(16, 4))\n",
    "plt.plot(data[:500], '.'); plt.plot(data[:500], '-');"
   ]
  },
  {
   "cell_type": "markdown",
   "metadata": {
    "_cell_guid": "42761f3d-0d20-4a97-843a-02186299f76b",
    "_uuid": "b3a730fc5ee4a9ab5904cddda84a05ac118c749d"
   },
   "source": [
    "<a id=\"audio_length\"></a>\n",
    "### Audio Length\n",
    "\n",
    "We shall now analyze the lengths of the audio files in our dataset"
   ]
  },
  {
   "cell_type": "code",
   "execution_count": 26,
   "metadata": {
    "_cell_guid": "40b7ba05-45df-4779-be29-b177b9b9b8e1",
    "_uuid": "867f0074922314b78de6bd9d14b308b634d1fbbe",
    "scrolled": false
   },
   "outputs": [
    {
     "ename": "NameError",
     "evalue": "name 'category_group' is not defined",
     "output_type": "error",
     "traceback": [
      "\u001b[0;31m---------------------------------------------------------------------------\u001b[0m",
      "\u001b[0;31mNameError\u001b[0m                                 Traceback (most recent call last)",
      "\u001b[0;32m<ipython-input-26-501f31c7902f>\u001b[0m in \u001b[0;36m<module>\u001b[0;34m\u001b[0m\n\u001b[0;32m----> 1\u001b[0;31m \u001b[0midx_sel\u001b[0m \u001b[0;34m=\u001b[0m \u001b[0mcategory_group\u001b[0m\u001b[0;34m.\u001b[0m\u001b[0msort_values\u001b[0m\u001b[0;34m(\u001b[0m\u001b[0mascending\u001b[0m\u001b[0;34m=\u001b[0m\u001b[0;32mTrue\u001b[0m\u001b[0;34m,\u001b[0m \u001b[0mby\u001b[0m\u001b[0;34m=\u001b[0m\u001b[0;34m'counts'\u001b[0m\u001b[0;34m)\u001b[0m\u001b[0;34m.\u001b[0m\u001b[0mindex\u001b[0m\u001b[0;34m[\u001b[0m\u001b[0;34m-\u001b[0m\u001b[0;36m25\u001b[0m\u001b[0;34m:\u001b[0m\u001b[0;34m]\u001b[0m\u001b[0;34m\u001b[0m\u001b[0m\n\u001b[0m\u001b[1;32m      2\u001b[0m \u001b[0m_\u001b[0m\u001b[0;34m,\u001b[0m \u001b[0max\u001b[0m \u001b[0;34m=\u001b[0m \u001b[0mplt\u001b[0m\u001b[0;34m.\u001b[0m\u001b[0msubplots\u001b[0m\u001b[0;34m(\u001b[0m\u001b[0mfigsize\u001b[0m\u001b[0;34m=\u001b[0m\u001b[0;34m(\u001b[0m\u001b[0;36m20\u001b[0m\u001b[0;34m,\u001b[0m \u001b[0;36m4\u001b[0m\u001b[0;34m)\u001b[0m\u001b[0;34m)\u001b[0m\u001b[0;34m\u001b[0m\u001b[0m\n\u001b[1;32m      3\u001b[0m \u001b[0msns\u001b[0m\u001b[0;34m.\u001b[0m\u001b[0mviolinplot\u001b[0m\u001b[0;34m(\u001b[0m\u001b[0max\u001b[0m\u001b[0;34m=\u001b[0m\u001b[0max\u001b[0m\u001b[0;34m,\u001b[0m \u001b[0mx\u001b[0m\u001b[0;34m=\u001b[0m\u001b[0;34m\"labels\"\u001b[0m\u001b[0;34m,\u001b[0m \u001b[0my\u001b[0m\u001b[0;34m=\u001b[0m\u001b[0;34m\"nframes\"\u001b[0m\u001b[0;34m,\u001b[0m \u001b[0mdata\u001b[0m\u001b[0;34m=\u001b[0m\u001b[0mtrain\u001b[0m\u001b[0;34m[\u001b[0m\u001b[0;34m(\u001b[0m\u001b[0mtrain\u001b[0m\u001b[0;34m.\u001b[0m\u001b[0mlabels\u001b[0m\u001b[0;34m.\u001b[0m\u001b[0misin\u001b[0m\u001b[0;34m(\u001b[0m\u001b[0midx_sel\u001b[0m\u001b[0;34m)\u001b[0m\u001b[0;34m.\u001b[0m\u001b[0mvalues\u001b[0m\u001b[0;34m)\u001b[0m\u001b[0;34m]\u001b[0m\u001b[0;34m)\u001b[0m\u001b[0;34m\u001b[0m\u001b[0m\n\u001b[1;32m      4\u001b[0m \u001b[0mplt\u001b[0m\u001b[0;34m.\u001b[0m\u001b[0mxticks\u001b[0m\u001b[0;34m(\u001b[0m\u001b[0mrotation\u001b[0m\u001b[0;34m=\u001b[0m\u001b[0;36m90\u001b[0m\u001b[0;34m)\u001b[0m\u001b[0;34m\u001b[0m\u001b[0m\n\u001b[1;32m      5\u001b[0m \u001b[0mplt\u001b[0m\u001b[0;34m.\u001b[0m\u001b[0mtitle\u001b[0m\u001b[0;34m(\u001b[0m\u001b[0;34m'Distribution of audio frames, per label'\u001b[0m\u001b[0;34m,\u001b[0m \u001b[0mfontsize\u001b[0m\u001b[0;34m=\u001b[0m\u001b[0;36m16\u001b[0m\u001b[0;34m)\u001b[0m\u001b[0;34m\u001b[0m\u001b[0m\n",
      "\u001b[0;31mNameError\u001b[0m: name 'category_group' is not defined"
     ]
    }
   ],
   "source": [
    "idx_sel = category_group.sort_values(ascending=True, by='counts').index[-25:]\n",
    "_, ax = plt.subplots(figsize=(20, 4))\n",
    "sns.violinplot(ax=ax, x=\"labels\", y=\"nframes\", data=train[(train.labels.isin(idx_sel).values)])\n",
    "plt.xticks(rotation=90)\n",
    "plt.title('Distribution of audio frames, per label', fontsize=16)\n",
    "plt.show()"
   ]
  },
  {
   "cell_type": "markdown",
   "metadata": {
    "_cell_guid": "fa8fa2bd-359c-4f53-b94b-67a6c1acde64",
    "_uuid": "92ea60bb1827c9ec4dd261d015739dde762f9b18"
   },
   "source": [
    "We observe:  \n",
    "The distribution of audio length across labels is non-uniform and has high variance as the previous competition.  \n",
    "\n",
    "Let's now analyze the frame length distribution in train and test."
   ]
  },
  {
   "cell_type": "code",
   "execution_count": null,
   "metadata": {
    "_cell_guid": "e49045f1-7c44-4f1a-b740-d45ec3b6b321",
    "_uuid": "0ec5676601b04e3fdbae4052122c9db1a68251a9"
   },
   "outputs": [],
   "source": [
    "fig, ax = plt.subplots(2, 1, figsize=(16,8))\n",
    "train.nframes.hist(bins=100, grid=True, rwidth=0.5, ax=ax[0], color='deeppink')\n",
    "test.nframes.hist(bins=100, grid=True, rwidth=0.5, ax=ax[1], color='darkslateblue')\n",
    "ax[0].set_xlim(0, 2700000)\n",
    "ax[1].set_xlim(0, 2700000)\n",
    "plt.suptitle('Frame Length Distribution in train and test', ha='center', fontsize='large');"
   ]
  },
  {
   "cell_type": "markdown",
   "metadata": {
    "_cell_guid": "72c8dc2d-8385-4f74-8820-8d805fee8dc0",
    "_uuid": "3e517330a7209f25fa69056db1214f27fb585824"
   },
   "source": [
    "We observe:\n",
    "- Majority of the audio files are short.\n",
    "- There are an `abnormal` length in the train histogram. Let's analyze them."
   ]
  },
  {
   "cell_type": "code",
   "execution_count": null,
   "metadata": {},
   "outputs": [],
   "source": [
    "train.query(\"nframes > 2500000\")"
   ]
  },
  {
   "cell_type": "code",
   "execution_count": null,
   "metadata": {
    "_cell_guid": "f36e006f-fb47-4134-94a8-aede32f770ad",
    "_uuid": "8495f1f7fdaffa09623458aa66803c6a2e156537",
    "scrolled": true
   },
   "outputs": [],
   "source": [
    "abnormal_length = 2538889\n",
    "\n",
    "abnormal_fnames = train.loc[train.nframes == abnormal_length, 'fname'].values[0]\n",
    "ipd.Audio( '../input/train_curated/' + abnormal_fnames)"
   ]
  },
  {
   "cell_type": "markdown",
   "metadata": {
    "_cell_guid": "146baca0-66cc-4ce1-8d16-16ae5764a354",
    "_uuid": "64462b38a986a2f40deeb6a053b9d99d8f6993b5"
   },
   "source": [
    "<a id=\"1d_model_building\"></a>\n",
    "## <center>2. Building a Model using Raw Wave</center>\n",
    "We will build two models:\n",
    "1. The first model will take the raw audio (1D array) as input and the primary operation will be Conv1D\n",
    "2. The second model will take the MFCCs as input. (We will explain MFCC later)\n",
    "\n",
    "<a id=\"1d_discription\"></a>\n",
    "### Keras Model using raw wave\n",
    "\n",
    "Our model has the architecture as follows:\n",
    "![raw](https://raw.githubusercontent.com/zaffnet/images/master/images/raw_model.jpg)\n",
    "\n",
    "**Important:**\n",
    "Due to the time limit on Kaggle Kernels, it is not possible to perform 10-fold training of a large model. I have trained the model locally and uploaded its output files as a dataset. If you wish to train the bigger model, change `COMPLETE_RUN = True` at the beginning of the kernel."
   ]
  },
  {
   "cell_type": "markdown",
   "metadata": {
    "_cell_guid": "0ef1062c-be8a-4021-a50a-3df9bacd30fc",
    "_uuid": "2df0e6e509896eaefd30f6b4c15b55736760aafa",
    "collapsed": true
   },
   "source": [
    "#### Some sssential imports"
   ]
  },
  {
   "cell_type": "code",
   "execution_count": null,
   "metadata": {
    "_cell_guid": "58fbb75c-1ef8-478f-a5fd-3fe6cfda32af",
    "_kg_hide-output": true,
    "_uuid": "36454f818dcbe02852e7a639d428a004a387ce9f"
   },
   "outputs": [],
   "source": [
    "import librosa\n",
    "import numpy as np\n",
    "import scipy\n",
    "from keras import losses, models, optimizers\n",
    "from keras.activations import relu, softmax\n",
    "from keras.callbacks import (EarlyStopping, LearningRateScheduler,\n",
    "                             ModelCheckpoint, TensorBoard, ReduceLROnPlateau)\n",
    "from keras.layers import (Convolution1D, Dense, Dropout, GlobalAveragePooling1D, \n",
    "                          GlobalMaxPool1D, Input, MaxPool1D, concatenate)\n",
    "from keras.utils import Sequence, to_categorical"
   ]
  },
  {
   "cell_type": "markdown",
   "metadata": {
    "_cell_guid": "64df4fea-4917-4762-b9be-68163f590c13",
    "_uuid": "927b4d615e24291f3c9510b653e723dc031fd042"
   },
   "source": [
    "<a id=\"configuration\"></a>\n",
    "#### Configuration"
   ]
  },
  {
   "cell_type": "markdown",
   "metadata": {
    "_cell_guid": "1dda9e10-5b51-430a-b20d-a319695df25d",
    "_uuid": "a9dc3968c8915e1d96f0bc011e67db26932ab0a3"
   },
   "source": [
    "The Configuration object stores those learning parameters that are shared between data generators, models, and training functions. Anything that is `global` as far as the training is concerned can become the part of Configuration object."
   ]
  },
  {
   "cell_type": "code",
   "execution_count": null,
   "metadata": {
    "_cell_guid": "e0836104-1a4d-485d-9cc1-3e5b82f449de",
    "_uuid": "66640745984135b853d36eac127fb2da302319ad"
   },
   "outputs": [],
   "source": [
    "class Config(object):\n",
    "    def __init__(self,\n",
    "                 sampling_rate=16000, audio_duration=2, \n",
    "                 n_classes=len(category_group),\n",
    "                 use_mfcc=False, n_folds=10, learning_rate=0.0001, \n",
    "                 max_epochs=50, n_mfcc=20):\n",
    "        self.sampling_rate = sampling_rate\n",
    "        self.audio_duration = audio_duration\n",
    "        self.n_classes = n_classes\n",
    "        self.use_mfcc = use_mfcc\n",
    "        self.n_mfcc = n_mfcc\n",
    "        self.n_folds = n_folds\n",
    "        self.learning_rate = learning_rate\n",
    "        self.max_epochs = max_epochs\n",
    "\n",
    "        self.audio_length = self.sampling_rate * self.audio_duration\n",
    "        if self.use_mfcc:\n",
    "            self.dim = (self.n_mfcc, 1 + int(np.floor(self.audio_length/512)), 1)\n",
    "        else:\n",
    "            self.dim = (self.audio_length, 1)"
   ]
  },
  {
   "cell_type": "markdown",
   "metadata": {
    "_cell_guid": "dbdcf3fb-f915-482c-ad8f-d8578de8f080",
    "_uuid": "b1a794352ac7505abcf212d1b1c6deef32178ab3",
    "collapsed": true
   },
   "source": [
    "<a id=\"data_generator\"></a>\n",
    "#### DataGenerator Class"
   ]
  },
  {
   "cell_type": "markdown",
   "metadata": {
    "_cell_guid": "059d4658-f1a4-4d6a-ae67-05140fc9bac6",
    "_uuid": "f1a0716a545ade83970005951719e71cebe35ab2"
   },
   "source": [
    "The DataGenerator class inherits from **`keras.utils.Sequence`** . It is useful for preprocessing and feeding the data to a Keras model. \n",
    "* Once initialized with a batch_size, it computes the number of batches in an epoch. The **`__len__`** method tells Keras how many batches to draw in each epoch. \n",
    "* The **`__getitem__`** method takes an index (which is the batch number) and returns a batch of the data (both X and y) after calculating the offset. During test time, only `X` is returned.\n",
    "* If we want to perform some action after each epoch (like shuffle the data, or increase the proportion of augmented data), we can use the **`on_epoch_end`** method.\n",
    "\n",
    "Note:\n",
    "**`Sequence`** are a safer way to do multiprocessing. This structure guarantees that the network will only train once on each sample per epoch which is not the case with generators."
   ]
  },
  {
   "cell_type": "code",
   "execution_count": null,
   "metadata": {
    "_cell_guid": "f9d14e7d-89d8-42f0-9eb3-f895645b2de2",
    "_uuid": "aca30bc0f6fccf71e4b9a68e5c04c1aaf950b169"
   },
   "outputs": [],
   "source": [
    "class DataGenerator(Sequence):\n",
    "    def __init__(self, config, data_dir, list_IDs, labels=None, \n",
    "                 batch_size=64, preprocessing_fn=lambda x: x):\n",
    "        self.config = config\n",
    "        self.data_dir = data_dir\n",
    "        self.list_IDs = list_IDs\n",
    "        self.labels = labels\n",
    "        self.batch_size = batch_size\n",
    "        self.preprocessing_fn = preprocessing_fn\n",
    "        self.on_epoch_end()\n",
    "        self.dim = self.config.dim\n",
    "\n",
    "    def __len__(self):\n",
    "        return int(np.ceil(len(self.list_IDs) / self.batch_size))\n",
    "\n",
    "    def __getitem__(self, index):\n",
    "        indexes = self.indexes[index*self.batch_size:(index+1)*self.batch_size]\n",
    "        list_IDs_temp = [self.list_IDs[k] for k in indexes]\n",
    "        return self.__data_generation(list_IDs_temp)\n",
    "\n",
    "    def on_epoch_end(self):\n",
    "        self.indexes = np.arange(len(self.list_IDs))\n",
    "\n",
    "    def __data_generation(self, list_IDs_temp):\n",
    "        cur_batch_size = len(list_IDs_temp)\n",
    "        X = np.empty((cur_batch_size, *self.dim))\n",
    "\n",
    "        input_length = self.config.audio_length\n",
    "        for i, ID in enumerate(list_IDs_temp):\n",
    "            file_path = self.data_dir + ID\n",
    "            \n",
    "            # Read and Resample the audio\n",
    "            data, _ = librosa.core.load(file_path, sr=self.config.sampling_rate,\n",
    "                                        res_type='kaiser_fast')\n",
    "\n",
    "            # Random offset / Padding\n",
    "            if len(data) > input_length:\n",
    "                max_offset = len(data) - input_length\n",
    "                offset = np.random.randint(max_offset)\n",
    "                data = data[offset:(input_length+offset)]\n",
    "            else:\n",
    "                if input_length > len(data):\n",
    "                    max_offset = input_length - len(data)\n",
    "                    offset = np.random.randint(max_offset)\n",
    "                else:\n",
    "                    offset = 0\n",
    "                data = np.pad(data, (offset, input_length - len(data) - offset), \"constant\")\n",
    "                \n",
    "            # Normalization + Other Preprocessing\n",
    "            if self.config.use_mfcc:\n",
    "                data = librosa.feature.mfcc(data, sr=self.config.sampling_rate,\n",
    "                                                   n_mfcc=self.config.n_mfcc)\n",
    "                data = np.expand_dims(data, axis=-1)\n",
    "            else:\n",
    "                data = self.preprocessing_fn(data)[:, np.newaxis]\n",
    "            X[i,] = data\n",
    "\n",
    "        if self.labels is not None:\n",
    "            y = np.empty(cur_batch_size, dtype=int)\n",
    "            for i, ID in enumerate(list_IDs_temp):\n",
    "                y[i] = self.labels[ID]\n",
    "            return X, to_categorical(y, num_classes=self.config.n_classes)\n",
    "        else:\n",
    "            return X"
   ]
  },
  {
   "cell_type": "markdown",
   "metadata": {
    "_cell_guid": "49a23330-291d-4eb7-aeb9-4abcfd648277",
    "_uuid": "6b69d10980c7aad004c6a7fa860c649d0b875a0f"
   },
   "source": [
    "<a id=\"1d_normalization\"></a>\n",
    "#### Normalization\n",
    "\n",
    "Normalization is a crucial preprocessing step. The simplest method is rescaling the range of features to scale the range in [0, 1]. "
   ]
  },
  {
   "cell_type": "code",
   "execution_count": null,
   "metadata": {
    "_cell_guid": "bb5936dd-5fb1-4894-8165-6daf372a6832",
    "_uuid": "c9db10ad526815730a6e5a1f057de8c9bff12615"
   },
   "outputs": [],
   "source": [
    "def audio_norm(data):\n",
    "    max_data = np.max(data)\n",
    "    min_data = np.min(data)\n",
    "    data = (data-min_data)/(max_data-min_data+1e-6)\n",
    "    return data - 0.5"
   ]
  },
  {
   "cell_type": "markdown",
   "metadata": {
    "_cell_guid": "3b9656b0-31d3-47ea-9bb3-789a40026793",
    "_uuid": "c2f0bbd810926b309d3b02473e937a2a86bc9005"
   },
   "source": [
    "* The dummy model is just for debugging purpose.\n",
    "* Our 1D Conv model is fairly deep and is trained using Adam Optimizer with a learning rate of 0.0001"
   ]
  },
  {
   "cell_type": "code",
   "execution_count": null,
   "metadata": {
    "_cell_guid": "245887b3-a0dc-498d-900c-dd1c2898d955",
    "_uuid": "40771630994b93eee040c239f1c0e3bf88f13ced"
   },
   "outputs": [],
   "source": [
    "def get_1d_dummy_model(config):\n",
    "    \n",
    "    nclass = config.n_classes\n",
    "    input_length = config.audio_length\n",
    "    \n",
    "    inp = Input(shape=(input_length,1))\n",
    "    x = GlobalMaxPool1D()(inp)\n",
    "    out = Dense(nclass, activation=softmax)(x)\n",
    "\n",
    "    model = models.Model(inputs=inp, outputs=out)\n",
    "    opt = optimizers.Adam(config.learning_rate)\n",
    "\n",
    "    model.compile(optimizer=opt, loss=losses.categorical_crossentropy, metrics=['acc'])\n",
    "    return model\n",
    "\n",
    "def get_1d_conv_model(config):\n",
    "    \n",
    "    nclass = config.n_classes\n",
    "    input_length = config.audio_length\n",
    "    \n",
    "    inp = Input(shape=(input_length,1))\n",
    "    x = Convolution1D(16, 9, activation=relu, padding=\"valid\")(inp)\n",
    "    x = Convolution1D(16, 9, activation=relu, padding=\"valid\")(x)\n",
    "    x = MaxPool1D(16)(x)\n",
    "    x = Dropout(rate=0.1)(x)\n",
    "    \n",
    "    x = Convolution1D(32, 3, activation=relu, padding=\"valid\")(x)\n",
    "    x = Convolution1D(32, 3, activation=relu, padding=\"valid\")(x)\n",
    "    x = MaxPool1D(4)(x)\n",
    "    x = Dropout(rate=0.1)(x)\n",
    "    \n",
    "    x = Convolution1D(32, 3, activation=relu, padding=\"valid\")(x)\n",
    "    x = Convolution1D(32, 3, activation=relu, padding=\"valid\")(x)\n",
    "    x = MaxPool1D(4)(x)\n",
    "    x = Dropout(rate=0.1)(x)\n",
    "    \n",
    "    x = Convolution1D(256, 3, activation=relu, padding=\"valid\")(x)\n",
    "    x = Convolution1D(256, 3, activation=relu, padding=\"valid\")(x)\n",
    "    x = GlobalMaxPool1D()(x)\n",
    "    x = Dropout(rate=0.2)(x)\n",
    "\n",
    "    x = Dense(64, activation=relu)(x)\n",
    "    x = Dense(1028, activation=relu)(x)\n",
    "    out = Dense(nclass, activation=softmax)(x)\n",
    "\n",
    "    model = models.Model(inputs=inp, outputs=out)\n",
    "    opt = optimizers.Adam(config.learning_rate)\n",
    "\n",
    "    model.compile(optimizer=opt, loss=losses.categorical_crossentropy, metrics=['acc'])\n",
    "    return model"
   ]
  },
  {
   "cell_type": "markdown",
   "metadata": {
    "_cell_guid": "2e67aa4a-f2d0-4889-a1da-b6d3217edb5e",
    "_uuid": "32afe89ebdee366de311a6fffb5c49a0e568aaa8"
   },
   "source": [
    "<a id=\"1d_training\"></a>\n",
    "#### Training 1D Conv"
   ]
  },
  {
   "cell_type": "markdown",
   "metadata": {
    "_cell_guid": "a93de421-33be-4104-bcfa-b581cbde3d75",
    "_uuid": "ddbcf58975c5cd7436314a77e5b8f938640bcf34"
   },
   "source": [
    "It is important to convert raw labels to integer indices"
   ]
  },
  {
   "cell_type": "code",
   "execution_count": null,
   "metadata": {},
   "outputs": [],
   "source": [
    "train.head()"
   ]
  },
  {
   "cell_type": "code",
   "execution_count": null,
   "metadata": {
    "_cell_guid": "e9027035-0e77-47dd-8616-113c1cfb37e0",
    "_uuid": "53aca10261dea0b8357e39adb513c7689b7c07ff"
   },
   "outputs": [],
   "source": [
    "LABELS = list(train.labels.unique())\n",
    "label_idx = {label: i for i, label in enumerate(LABELS)}\n",
    "train.set_index(\"fname\", inplace=True)\n",
    "test.set_index(\"fname\", inplace=True)\n",
    "train[\"label_idx\"] = train.labels.apply(lambda x: label_idx[x])\n",
    "if not COMPLETE_RUN:\n",
    "    train = train[:2000]\n",
    "    test = test[:2000]"
   ]
  },
  {
   "cell_type": "code",
   "execution_count": null,
   "metadata": {},
   "outputs": [],
   "source": [
    "train.head()"
   ]
  },
  {
   "cell_type": "code",
   "execution_count": null,
   "metadata": {
    "_cell_guid": "f2f2dc50-77d3-43ba-bf7f-3c6b39beb67b",
    "_uuid": "604a3c7971599898b5614a67da12da84ab651a55"
   },
   "outputs": [],
   "source": [
    "config = Config(sampling_rate=16000, audio_duration=2, n_folds=10, learning_rate=0.001)\n",
    "if not COMPLETE_RUN:\n",
    "    config = Config(sampling_rate=100, audio_duration=1, n_folds=2, max_epochs=1)"
   ]
  },
  {
   "cell_type": "markdown",
   "metadata": {
    "_cell_guid": "e31b98ec-cecb-4584-9bbc-bc2748476b49",
    "_uuid": "7a2a5e44d82a2b9e04117b76464225278ec4a1d8"
   },
   "source": [
    "Here is the code for 10-fold training:\n",
    "* We use **`from sklearn.model_selection.StratifiedKFold`** for splitting the trainig data into 10 folds.\n",
    "* We use some Keras callbacks to monitor the training.\n",
    "    * **`ModelCheckpoint`** saves the best weight of our model (using validation data). We use this weight to make test predictions.\n",
    "    * **`EarlyStopping`** stops the training once validation loss ceases to decrease\n",
    "    * **`TensorBoard`** helps us visualize training and validation loss and accuracy.\n",
    "* We fit the model using **`DataGenerator`** for training and validation splits. \n",
    "* We get both training and test predictions and save them as .npy format. We also generate a submission file. For 10-fold CV, the number of prediction files should be 10. We will ensemble these predictions later."
   ]
  },
  {
   "cell_type": "code",
   "execution_count": null,
   "metadata": {
    "_cell_guid": "e81537d9-d886-4bd5-a923-7efe1aa1812d",
    "_kg_hide-output": true,
    "_uuid": "1e68d5ae8e431445151c8c7744fadb65fbf692c8"
   },
   "outputs": [],
   "source": [
    "PREDICTION_FOLDER = \"predictions_1d_conv\"\n",
    "if not os.path.exists(PREDICTION_FOLDER):\n",
    "    os.mkdir(PREDICTION_FOLDER)\n",
    "if os.path.exists('logs/' + PREDICTION_FOLDER):\n",
    "    shutil.rmtree('logs/' + PREDICTION_FOLDER)\n",
    "\n",
    "skf = StratifiedKFold(n_splits=config.n_folds)\n",
    "\n",
    "for i, (train_split, val_split) in enumerate(skf.split(train.index, train.label_idx)):\n",
    "    train_set = train.iloc[train_split]\n",
    "    val_set = train.iloc[val_split]\n",
    "    checkpoint = ModelCheckpoint('best_%d.h5'%i, monitor='val_loss', verbose=1, save_best_only=True)\n",
    "    early = EarlyStopping(monitor=\"val_loss\", mode=\"min\", patience=5)\n",
    "    tb = TensorBoard(log_dir='./logs/' + PREDICTION_FOLDER + '/fold_%d'%i, write_graph=True)\n",
    "\n",
    "    callbacks_list = [checkpoint, early, tb]\n",
    "    print(\"\\nFold: \", i)\n",
    "    if COMPLETE_RUN:\n",
    "        model = get_1d_conv_model(config)\n",
    "    else:\n",
    "        model = get_1d_dummy_model(config)\n",
    "\n",
    "    train_generator = DataGenerator(config, '../input/train_curated/', train_set.index, \n",
    "                                    train_set.label_idx, batch_size=64,\n",
    "                                    preprocessing_fn=audio_norm)\n",
    "    val_generator = DataGenerator(config, '../input/train_curated/', val_set.index, \n",
    "                                  val_set.label_idx, batch_size=64,\n",
    "                                  preprocessing_fn=audio_norm)\n",
    "    \n",
    "    history = model.fit_generator(train_generator, callbacks=callbacks_list, validation_data=val_generator,\n",
    "                                  epochs=config.max_epochs, use_multiprocessing=True, max_queue_size=20)\n",
    "    \n",
    "#     model.load_weights('../working/best_%d.h5'%i)\n",
    "    \n",
    "    # Save train predictions\n",
    "    train_generator = DataGenerator(config, '../input/train_curated/', train.index, batch_size=128,\n",
    "                                    preprocessing_fn=audio_norm)\n",
    "    predictions = model.predict_generator(train_generator, use_multiprocessing=True, \n",
    "                                          max_queue_size=20, verbose=1)\n",
    "    np.save(PREDICTION_FOLDER + \"/train_predictions_%d.npy\"%i, predictions)\n",
    "    \n",
    "    # Save test predictions\n",
    "    test_generator = DataGenerator(config, '../input/test/', test.index, batch_size=128,\n",
    "                                    preprocessing_fn=audio_norm)\n",
    "    predictions = model.predict_generator(test_generator, use_multiprocessing=True, \n",
    "                                          max_queue_size=20, verbose=1)\n",
    "    np.save(PREDICTION_FOLDER + \"/test_predictions_%d.npy\"%i, predictions)\n",
    "    \n",
    "    # Make a submission file\n",
    "    top_3 = np.array(LABELS)[np.argsort(-predictions, axis=1)[:, :3]]\n",
    "    predicted_labels = [' '.join(list(x)) for x in top_3]\n",
    "    test['label'] = predicted_labels\n",
    "    test[['label']].to_csv(PREDICTION_FOLDER + \"/predictions_%d.csv\"%i)\n",
    "    "
   ]
  },
  {
   "cell_type": "markdown",
   "metadata": {},
   "source": [
    "predictions are saved as following."
   ]
  },
  {
   "cell_type": "code",
   "execution_count": null,
   "metadata": {},
   "outputs": [],
   "source": [
    "os.listdir('../working/predictions_1d_conv/')"
   ]
  },
  {
   "cell_type": "markdown",
   "metadata": {
    "_cell_guid": "488df4a9-b090-4397-a649-2e94f9ee82ad",
    "_uuid": "2afcdcf0f77f8685f57e2d119ec0cc650b7255d7"
   },
   "source": [
    "<a id=\"1d_ensembling\"></a>\n",
    "#### Ensembling 1D Conv Predictions\n",
    "Now that we have trained our model, it is time average the predictions of X-folds.  \n",
    "We will try **Geometric Mean averaging**."
   ]
  },
  {
   "cell_type": "code",
   "execution_count": null,
   "metadata": {
    "_cell_guid": "4050aede-678b-4f9e-bb95-e70f79e4f6bd",
    "_kg_hide-output": true,
    "_uuid": "bfdddecb92be07d06e71d25b1812d064a0cee66d"
   },
   "outputs": [],
   "source": [
    "pred_list = []\n",
    "for i in range(config.n_folds):\n",
    "    pred_list.append(np.load(\"../working/predictions_1d_conv/test_predictions_%d.npy\"%i))\n",
    "prediction = np.ones_like(pred_list[0])\n",
    "for pred in pred_list:\n",
    "    prediction = prediction*pred\n",
    "prediction = prediction**(1./len(pred_list))\n",
    "# Make a submission file\n",
    "top_3 = np.array(LABELS)[np.argsort(-prediction, axis=1)[:, :3]]\n",
    "predicted_labels = [' '.join(list(x)) for x in top_3]\n",
    "test = pd.read_csv('../input/sample_submission.csv')\n",
    "test['label'] = predicted_labels\n",
    "test[['fname', 'label']].to_csv(\"1d_conv_ensembled_submission.csv\", index=False)"
   ]
  },
  {
   "cell_type": "markdown",
   "metadata": {
    "_cell_guid": "8c437de1-ecc0-4c72-9595-c689c101a72c",
    "_uuid": "40ef0374888d1453eed07c8daa18f231c12ef36d"
   },
   "source": [
    "<a id=\"intro_mfcc\"></a>\n",
    "## <center> 3. Introuction to MFCC\n",
    "\n",
    "As we have seen in the previous section, our Deep Learning models are powerful enough to classify sounds from the raw audio. We do not require any complex feature engineering. But before the Deep Learning era, people developed techniques to extract features from audio signals. It turns out that these techniques are still useful. One such technique is computing the MFCC (Mel Frquency Cepstral Coefficients) from the raw audio. Before we jump to MFCC, let's talk about extracting features from the sound.\n",
    "\n",
    "If we just want to classify some sound, we should build features that are **speaker independent**. Any feature that only gives information about the speaker (like the pitch of their voice) will not be helpful for classification. In other words, we should extract features that depend on the \"content\" of the audio rather than the nature of the speaker. Also, a good feature extraction technique should mimic the human speech perception. We don't hear loudness on a linear scale. If we want to double the perceived loudness of a sound, we have to put 8 times as much energy into it. Instead of a linear scale, our perception system uses a log scale. \n",
    "\n",
    "Taking these things into account, Davis and Mermelstein came up with MFCC in the 1980's. MFCC mimics the logarithmic perception of loudness and pitch of human auditory system and tries to eliminate speaker dependent characteristics by excluding the fundamental frequency and their harmonics. The underlying mathematics is quite complicated and we will skip that. For those interested, here is the [detailed explanation](http://practicalcryptography.com/miscellaneous/machine-learning/guide-mel-frequency-cepstral-coefficients-mfccs/).\n",
    "\n",
    "<a id=\"librosa_mfcc\"></a>\n",
    "#### Generating MFCC using Librosa\n",
    "The library librosa has a function to calculate MFCC. Let's compute the MFCC of an audio file and visualize it."
   ]
  },
  {
   "cell_type": "code",
   "execution_count": null,
   "metadata": {
    "_cell_guid": "dcb2a6e7-b086-4d1a-94a4-215f2cb101d0",
    "_uuid": "2f8dfd08f109ababeaca9ce900b68b8a716d28b7"
   },
   "outputs": [],
   "source": [
    "import librosa\n",
    "SAMPLE_RATE = 44100\n",
    "fname = '../input/train_curated/0019ef41.wav'  # Raindrop\n",
    "wav, _ = librosa.core.load(fname, sr=SAMPLE_RATE)\n",
    "wav = wav[:2*44100]"
   ]
  },
  {
   "cell_type": "code",
   "execution_count": null,
   "metadata": {
    "_cell_guid": "6250242e-e3c5-4cb9-8405-43d3279dada1",
    "_kg_hide-output": false,
    "_uuid": "7498089442d866816aabc85234a8a5546c5e58da"
   },
   "outputs": [],
   "source": [
    "mfcc = librosa.feature.mfcc(wav, sr = SAMPLE_RATE, n_mfcc=40)\n",
    "mfcc.shape"
   ]
  },
  {
   "cell_type": "code",
   "execution_count": null,
   "metadata": {
    "_cell_guid": "d02be92a-f208-42c2-ac4a-e0b2b22ba195",
    "_uuid": "f4054a6856eaa16cf82cacb5bd08ea53cdab386b"
   },
   "outputs": [],
   "source": [
    "fig, ax = plt.subplots(figsize=(15, 5))\n",
    "ax.imshow(mfcc, cmap='Spectral', interpolation='nearest');"
   ]
  },
  {
   "cell_type": "markdown",
   "metadata": {
    "_cell_guid": "5015b22f-5de8-4a86-aef4-074bf90023aa",
    "_uuid": "59502f44b22674250a047e89b610867d6c6306c3"
   },
   "source": [
    "<a id=\"2d_model_building\"></a>\n",
    "## <center>4. Building a Model using MFCC\n",
    "\n",
    "We will build a 2D Convolutional model using MFCC. "
   ]
  },
  {
   "cell_type": "code",
   "execution_count": null,
   "metadata": {
    "_cell_guid": "384fe65d-fe10-4eee-826c-75c4dffcfa2d",
    "_kg_hide-output": true,
    "_uuid": "ed54039a4e0b91d10f603799feb8166404bbceec"
   },
   "outputs": [],
   "source": [
    "from keras.layers import (Convolution2D, GlobalAveragePooling2D, BatchNormalization, Flatten,\n",
    "                          GlobalMaxPool2D, MaxPool2D, concatenate, Activation)\n",
    "from keras.utils import Sequence, to_categorical\n",
    "from keras import backend as K"
   ]
  },
  {
   "cell_type": "code",
   "execution_count": null,
   "metadata": {
    "_cell_guid": "97d07753-d78d-465d-936d-7f03eaf1def1",
    "_uuid": "0b2ac601f52ae4ed9dc849fcd095ab94cfe878fe"
   },
   "outputs": [],
   "source": [
    "def get_2d_dummy_model(config):\n",
    "    \n",
    "    nclass = config.n_classes\n",
    "    \n",
    "    inp = Input(shape=(config.dim[0],config.dim[1],1))\n",
    "    x = GlobalMaxPool2D()(inp)\n",
    "    out = Dense(nclass, activation=softmax)(x)\n",
    "\n",
    "    model = models.Model(inputs=inp, outputs=out)\n",
    "    opt = optimizers.Adam(config.learning_rate)\n",
    "\n",
    "    model.compile(optimizer=opt, loss=losses.categorical_crossentropy, metrics=['acc'])\n",
    "    return model\n",
    "\n",
    "\n",
    "def get_2d_conv_model(config):\n",
    "    \n",
    "    nclass = config.n_classes\n",
    "    \n",
    "    inp = Input(shape=(config.dim[0],config.dim[1],1))\n",
    "    x = Convolution2D(32, (4,10), padding=\"same\")(inp)\n",
    "    x = BatchNormalization()(x)\n",
    "    x = Activation(\"relu\")(x)\n",
    "    x = MaxPool2D()(x)\n",
    "    \n",
    "    x = Convolution2D(32, (4,10), padding=\"same\")(x)\n",
    "    x = BatchNormalization()(x)\n",
    "    x = Activation(\"relu\")(x)\n",
    "    x = MaxPool2D()(x)\n",
    "    \n",
    "    x = Convolution2D(32, (4,10), padding=\"same\")(x)\n",
    "    x = BatchNormalization()(x)\n",
    "    x = Activation(\"relu\")(x)\n",
    "    x = MaxPool2D()(x)\n",
    "    \n",
    "    x = Convolution2D(32, (4,10), padding=\"same\")(x)\n",
    "    x = BatchNormalization()(x)\n",
    "    x = Activation(\"relu\")(x)\n",
    "    x = MaxPool2D()(x)\n",
    "\n",
    "    x = Flatten()(x)\n",
    "    x = Dense(64)(x)\n",
    "    x = BatchNormalization()(x)\n",
    "    x = Activation(\"relu\")(x)\n",
    "    out = Dense(nclass, activation=softmax)(x)\n",
    "\n",
    "    model = models.Model(inputs=inp, outputs=out)\n",
    "    opt = optimizers.Adam(config.learning_rate)\n",
    "\n",
    "    model.compile(optimizer=opt, loss=losses.categorical_crossentropy, metrics=['acc'])\n",
    "    return model"
   ]
  },
  {
   "cell_type": "markdown",
   "metadata": {
    "_cell_guid": "c0c823de-9971-4247-9501-dc74d2f95d8e",
    "_uuid": "d88e90fdc36c77c10ecc8f674d6fd39c8e4d78fb"
   },
   "source": [
    "<a id=\"2d_data\"></a>\n",
    "### Preparing data"
   ]
  },
  {
   "cell_type": "code",
   "execution_count": null,
   "metadata": {
    "_cell_guid": "eb5aef7d-669b-4cde-9e09-a2bfaa379cc9",
    "_uuid": "70b8cd145ae3838c7974fe257403c8c7fbc8552a"
   },
   "outputs": [],
   "source": [
    "config = Config(sampling_rate=44100, audio_duration=2, n_folds=10, \n",
    "                learning_rate=0.001, use_mfcc=True, n_mfcc=40)\n",
    "if not COMPLETE_RUN:\n",
    "    config = Config(sampling_rate=44100, audio_duration=2, n_folds=2, \n",
    "                    max_epochs=1, use_mfcc=True, n_mfcc=40)"
   ]
  },
  {
   "cell_type": "code",
   "execution_count": null,
   "metadata": {
    "_cell_guid": "5b9b1c9b-7e02-46f3-96f6-67ebc9bf9132",
    "_uuid": "5242e943f1bc1154d19c03c361a826553c811cfe"
   },
   "outputs": [],
   "source": [
    "def prepare_data(df, config, data_dir):\n",
    "    X = np.empty(shape=(df.shape[0], config.dim[0], config.dim[1], 1))\n",
    "    input_length = config.audio_length\n",
    "    for i, fname in enumerate(df.index):\n",
    "#         print(fname)\n",
    "        file_path = data_dir + fname\n",
    "        data, _ = librosa.core.load(file_path, sr=config.sampling_rate, res_type=\"kaiser_fast\")\n",
    "\n",
    "        # Random offset / Padding\n",
    "        if len(data) > input_length:\n",
    "            max_offset = len(data) - input_length\n",
    "            offset = np.random.randint(max_offset)\n",
    "            data = data[offset:(input_length+offset)]\n",
    "        else:\n",
    "            if input_length > len(data):\n",
    "                max_offset = input_length - len(data)\n",
    "                offset = np.random.randint(max_offset)\n",
    "            else:\n",
    "                offset = 0\n",
    "            data = np.pad(data, (offset, input_length - len(data) - offset), \"constant\")\n",
    "\n",
    "        data = librosa.feature.mfcc(data, sr=config.sampling_rate, n_mfcc=config.n_mfcc)\n",
    "        data = np.expand_dims(data, axis=-1)\n",
    "        X[i,] = data\n",
    "    return X"
   ]
  },
  {
   "cell_type": "code",
   "execution_count": null,
   "metadata": {},
   "outputs": [],
   "source": [
    "test.index = test.fname"
   ]
  },
  {
   "cell_type": "code",
   "execution_count": null,
   "metadata": {
    "_cell_guid": "c9910de1-388b-470e-8908-6df548f1b866",
    "_uuid": "bb3bc487b52a549a856807dd838a4f6cd209917d"
   },
   "outputs": [],
   "source": [
    "%time\n",
    "X_train = prepare_data(train, config, '../input/train_curated/')\n",
    "X_test = prepare_data(test, config, '../input/test/')\n",
    "y_train = to_categorical(train.label_idx.astype('str'), num_classes=config.n_classes)"
   ]
  },
  {
   "cell_type": "markdown",
   "metadata": {
    "_cell_guid": "a0e0b17b-d2f8-47f8-9b4d-fff3b2761dde",
    "_uuid": "89e8bd3dc6d1f432309e668685fb98d1ce866e95"
   },
   "source": [
    "<a id=\"2d_normalization\"></a>\n",
    "#### Normalization\n"
   ]
  },
  {
   "cell_type": "code",
   "execution_count": null,
   "metadata": {
    "_cell_guid": "928b0993-7799-4b75-bef8-c1df3755632e",
    "_uuid": "60b6d9dfcb25eb9b3cef7e05675d67b104e24b31"
   },
   "outputs": [],
   "source": [
    "mean = np.mean(X_train, axis=0)\n",
    "std = np.std(X_train, axis=0)\n",
    "\n",
    "X_train = (X_train - mean)/std\n",
    "X_test = (X_test - mean)/std"
   ]
  },
  {
   "cell_type": "markdown",
   "metadata": {
    "_cell_guid": "af8afd09-66bf-4618-ad95-d70db35b90ec",
    "_uuid": "b70fea949114595111c39f9f64fb1752603e3fdf"
   },
   "source": [
    "<a id=\"2d_training\"></a>\n",
    "#### Training 2D Conv on MFCC"
   ]
  },
  {
   "cell_type": "code",
   "execution_count": null,
   "metadata": {
    "_cell_guid": "10fb7477-8122-49fb-be81-1adb7aa45c7f",
    "_uuid": "ab0f2bc7e7bbaced3eb2e4c3acb7c7c63aa73681"
   },
   "outputs": [],
   "source": [
    "PREDICTION_FOLDER = \"predictions_2d_conv\"\n",
    "if not os.path.exists(PREDICTION_FOLDER):\n",
    "    os.mkdir(PREDICTION_FOLDER)\n",
    "if os.path.exists('logs/' + PREDICTION_FOLDER):\n",
    "    shutil.rmtree('logs/' + PREDICTION_FOLDER)\n",
    "\n",
    "skf = StratifiedKFold(n_splits=config.n_folds)\n",
    "\n",
    "for i, (train_split, val_split) in enumerate(skf.split(train.index, train.label_idx)):\n",
    "    K.clear_session()\n",
    "    X, y, X_val, y_val = X_train[train_split], y_train[train_split], X_train[val_split], y_train[val_split]\n",
    "    checkpoint = ModelCheckpoint('best_%d.h5'%i, monitor='val_loss', verbose=1, save_best_only=True)\n",
    "    early = EarlyStopping(monitor=\"val_loss\", mode=\"min\", patience=5)\n",
    "    tb = TensorBoard(log_dir='./logs/' + PREDICTION_FOLDER + '/fold_%i'%i, write_graph=True)\n",
    "    callbacks_list = [checkpoint, early, tb]\n",
    "    print(\"#\"*50)\n",
    "    print(\"Fold: \", i)\n",
    "    model = get_2d_conv_model(config)\n",
    "    history = model.fit(X, y, validation_data=(X_val, y_val), callbacks=callbacks_list, \n",
    "                        batch_size=64, epochs=config.max_epochs)\n",
    "    model.load_weights('best_%d.h5'%i)\n",
    "\n",
    "    # Save train predictions\n",
    "    predictions = model.predict(X_train, batch_size=64, verbose=1)\n",
    "    np.save(PREDICTION_FOLDER + \"/train_predictions_%d.npy\"%i, predictions)\n",
    "\n",
    "    # Save test predictions\n",
    "    predictions = model.predict(X_test, batch_size=64, verbose=1)\n",
    "    np.save(PREDICTION_FOLDER + \"/test_predictions_%d.npy\"%i, predictions)\n",
    "\n",
    "    # Make a submission file\n",
    "    top_3 = np.array(LABELS)[np.argsort(-predictions, axis=1)[:, :3]]\n",
    "    predicted_labels = [' '.join(list(x)) for x in top_3]\n",
    "    test['label'] = predicted_labels\n",
    "    test[['label']].to_csv(PREDICTION_FOLDER + \"/predictions_%d.csv\"%i)"
   ]
  },
  {
   "cell_type": "markdown",
   "metadata": {
    "_cell_guid": "4bd794b7-c09e-42d6-8f8a-158758921273",
    "_uuid": "b4421687f65fd8068c04fcdfdb419bf4f08c5f2c"
   },
   "source": [
    "<a id=\"2d_ensembling\"></a>\n",
    "#### Ensembling 2D Conv Predictions"
   ]
  },
  {
   "cell_type": "code",
   "execution_count": null,
   "metadata": {
    "_cell_guid": "8c253178-6cde-4bad-835d-d09484f381ed",
    "_uuid": "e6868eb538b9fed874fcb02183d2edd348d38b5f"
   },
   "outputs": [],
   "source": [
    "pred_list = []\n",
    "for i in range(config.n_folds):\n",
    "    pred_list.append(np.load(\"../working/predictions_2d_conv/test_predictions_%d.npy\"%i))\n",
    "prediction = np.ones_like(pred_list[0])\n",
    "for pred in pred_list:\n",
    "    prediction = prediction*pred\n",
    "prediction = prediction**(1./len(pred_list))\n",
    "# Make a submission file\n",
    "top_3 = np.array(LABELS)[np.argsort(-prediction, axis=1)[:, :3]]\n",
    "predicted_labels = [' '.join(list(x)) for x in top_3]\n",
    "test = pd.read_csv('../input/sample_submission.csv')\n",
    "test['label'] = predicted_labels\n",
    "test[['fname', 'label']].to_csv(\"2d_conv_ensembled_submission.csv\", index=False)"
   ]
  },
  {
   "cell_type": "markdown",
   "metadata": {
    "_cell_guid": "b67760f2-f8cd-498a-b340-4910d8c443d3",
    "_uuid": "38feef2350dfa3c099bd6fb2e1a0b921716606a8"
   },
   "source": [
    "<a id=\"1d_2d_ensembling\"></a>\n",
    "## <center>5. Ensembling 1D Conv and 2D Conv Predictions</center>"
   ]
  },
  {
   "cell_type": "code",
   "execution_count": null,
   "metadata": {
    "_cell_guid": "12566257-72a5-4aa3-9e11-763c98489810",
    "_uuid": "448e8f9034d9d43a4642b1f441965b272425ba63"
   },
   "outputs": [],
   "source": [
    "pred_list = []\n",
    "for i in range(config.n_folds):\n",
    "    pred_list.append(np.load(\"../working/predictions_1d_conv/test_predictions_%d.npy\"%i))\n",
    "for i in range(config.n_folds):\n",
    "    pred_list.append(np.load(\"../working/predictions_2d_conv/test_predictions_%d.npy\"%i))\n",
    "prediction = np.ones_like(pred_list[0])\n",
    "for pred in pred_list:\n",
    "    prediction = prediction*pred\n",
    "prediction = prediction**(1./len(pred_list))"
   ]
  },
  {
   "cell_type": "markdown",
   "metadata": {},
   "source": [
    "**Be careful :  **  \n",
    "**Because we exclude multi-labeled records, prediction shape became invalid.**"
   ]
  },
  {
   "cell_type": "code",
   "execution_count": null,
   "metadata": {},
   "outputs": [],
   "source": [
    "prediction.shape"
   ]
  }
 ],
 "metadata": {
  "kernelspec": {
   "display_name": "Python 3",
   "language": "python",
   "name": "python3"
  },
  "language_info": {
   "codemirror_mode": {
    "name": "ipython",
    "version": 3
   },
   "file_extension": ".py",
   "mimetype": "text/x-python",
   "name": "python",
   "nbconvert_exporter": "python",
   "pygments_lexer": "ipython3",
   "version": "3.7.0"
  }
 },
 "nbformat": 4,
 "nbformat_minor": 1
}
